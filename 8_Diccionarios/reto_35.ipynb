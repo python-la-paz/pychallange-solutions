{
 "cells": [
  {
   "cell_type": "markdown",
   "id": "b518f61d",
   "metadata": {},
   "source": [
    "\n",
    "# Reto Semanal XXXV \n",
    "¿Cuál es el resultado del siguiente código?\n",
    "\n",
    "```python\n",
    "mascotas_terrestres = {'perro': '🐶', 'gato': '🐱', 'perro': '🐕'}  \n",
    "mascotas_aereas = {'ave': '🐦', 'aguila':'🦅'}\n",
    "mascotas = mascotas_terrestres + mascotas_aereas;\n",
    "\n",
    "print(mascotas)\n",
    "```\n"
   ]
  },
  {
   "cell_type": "markdown",
   "id": "2ea26085",
   "metadata": {},
   "source": [
    "\n",
    "## Análisis del código original\n",
    "\n",
    "El código proporcionado es el siguiente:\n",
    "\n",
    "```python\n",
    "mascotas_terrestres = {'perro': '🐶', 'gato': '🐱', 'perro': '🐕'}  \n",
    "mascotas_aereas = {'ave': '🐦', 'aguila':'🦅'}\n",
    "mascotas = mascotas_terrestres + mascotas_aereas;\n",
    "print(mascotas)\n",
    "```\n",
    "\n",
    "En este caso, el diccionario `mascotas_terrestres` tiene dos claves para `'perro'`. Sin embargo, los diccionarios en Python no pueden tener claves duplicadas. Por lo tanto, solo la última clave `'perro': '🐕'` se conserva y reemplaza el valor original `'perro': '🐶'.`\n",
    "\n",
    "Además, se intenta usar el operador `+` para unir diccionarios, lo cual no está permitido en Python. Para combinar diccionarios, se deben usar métodos como `update()` o la sintaxis de **desempaquetado** (`{**dic1, **dic2}`).\n"
   ]
  },
  {
   "cell_type": "markdown",
   "id": "3c2dcab0",
   "metadata": {},
   "source": [
    "\n",
    "## Respuesta\n",
    "\n",
    "El código generará un **TypeError** debido a que no se puede usar el operador `+` con diccionarios en Python.\n",
    "\n",
    "Por lo tanto, la respuesta correcta es:\n",
    "\n",
    "❤️ TypeError\n"
   ]
  },
  {
   "cell_type": "markdown",
   "id": "0032a44e",
   "metadata": {},
   "source": [
    "\n",
    "## Conclusión\n",
    "\n",
    "Para combinar diccionarios en Python, no se puede usar el operador `+`. En su lugar, se puede utilizar el método `update()` o el desempaquetado de diccionarios. Además, las claves en un diccionario deben ser únicas, por lo que la clave `'perro'` solo conserva el último valor asignado.\n"
   ]
  }
 ],
 "metadata": {
  "kernelspec": {
   "display_name": "Python 3",
   "language": "python",
   "name": "python3"
  },
  "language_info": {
   "name": "python",
   "version": "3.11.2"
  },
  "nbformat": 4,
  "nbformat_minor": 5
 },
 "nbformat": 4,
 "nbformat_minor": 2
}
