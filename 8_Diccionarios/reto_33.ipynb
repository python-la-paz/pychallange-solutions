{
 "cells": [
  {
   "cell_type": "markdown",
   "id": "b518f61d",
   "metadata": {},
   "source": [
    "\n",
    "# Reto Semanal XXXIII \n",
    "¿Cuál es el resultado del siguiente código?\n",
    "\n",
    "```python\n",
    "inventario = {'📱': 10, '💻': 5, '🎧': 8}  \n",
    "nuevos_productos = {'📱': 12, '📷': 4}  \n",
    "\n",
    "inventario.update(nuevos_productos)  \n",
    "print(inventario)\n",
    "```\n"
   ]
  },
  {
   "cell_type": "markdown",
   "id": "2ea26085",
   "metadata": {},
   "source": [
    "\n",
    "## Análisis del código original\n",
    "\n",
    "El código proporcionado es el siguiente:\n",
    "\n",
    "```python\n",
    "inventario = {'📱': 10, '💻': 5, '🎧': 8}  \n",
    "nuevos_productos = {'📱': 12, '📷': 4}  \n",
    "\n",
    "inventario.update(nuevos_productos)  \n",
    "print(inventario)\n",
    "```\n",
    "\n",
    "En este caso, el método `update()` se utiliza para actualizar el diccionario `inventario` con los valores del diccionario `nuevos_productos`. Si una clave ya existe en el diccionario original, su valor será actualizado con el valor del diccionario que se pasa al método. En este caso, la clave `📱` ya existe en `inventario`, por lo que su valor se actualizará de 10 a 12. La clave `📷` no existe, por lo que se añadirá con un valor de 4.\n"
   ]
  },
  {
   "cell_type": "markdown",
   "id": "3c2dcab0",
   "metadata": {},
   "source": [
    "\n",
    "## Respuesta\n",
    "\n",
    "El resultado del código es:\n",
    "\n",
    "```python\n",
    "{'📱': 12, '💻': 5, '🎧': 8, '📷': 4}\n",
    "```\n",
    "Esto se debe a que el método `update()` actualiza el valor de la clave `📱` y agrega la clave `📷` al diccionario `inventario`.\n",
    "\n",
    "Por lo tanto, la respuesta correcta es:\n",
    "\n",
    "👍 {'📱': 12, '💻': 5, '🎧': 8, '📷': 4}\n"
   ]
  },
  {
   "cell_type": "markdown",
   "id": "0032a44e",
   "metadata": {},
   "source": [
    "\n",
    "## Conclusión\n",
    "\n",
    "El método `update()` de los diccionarios en Python permite actualizar el diccionario original con claves y valores de otro diccionario. Si una clave ya existe, su valor será reemplazado; si no existe, se agregará al diccionario.\n"
   ]
  }
 ],
 "metadata": {
  "kernelspec": {
   "display_name": "Python 3",
   "language": "python",
   "name": "python3"
  },
  "language_info": {
   "name": "python",
   "version": "3.11.2"
  },
  "nbformat": 4,
  "nbformat_minor": 5
 },
 "nbformat": 4,
 "nbformat_minor": 2
}
