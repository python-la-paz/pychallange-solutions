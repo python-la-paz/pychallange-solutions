{
 "cells": [
  {
   "cell_type": "markdown",
   "id": "b518f61d",
   "metadata": {},
   "source": [
    "\n",
    "# Reto Semanal XXXVI \n",
    "¿Cuál es el resultado del siguiente código?\n",
    "\n",
    "```python\n",
    "precios = {'🍕': 20, '🍔': 15, '🍟': 8}  \n",
    "descuentos = {'🍕': 5, '🍟': 3, '🌭': 4}  \n",
    "\n",
    "precio_final = {item: precios.get(item, 0) - descuentos.get(item, 0) for item in precios.keys() | descuentos.keys()}  \n",
    "print(precio_final)\n",
    "```\n"
   ]
  },
  {
   "cell_type": "markdown",
   "id": "2ea26085",
   "metadata": {},
   "source": [
    "\n",
    "## Análisis del código original\n",
    "\n",
    "El código proporcionado es el siguiente:\n",
    "\n",
    "```python\n",
    "precios = {'🍕': 20, '🍔': 15, '🍟': 8}  \n",
    "descuentos = {'🍕': 5, '🍟': 3, '🌭': 4}  \n",
    "\n",
    "precio_final = {item: precios.get(item, 0) - descuentos.get(item, 0) for item in precios.keys() | descuentos.keys()}  \n",
    "print(precio_final)\n",
    "```\n",
    "\n",
    "En este caso, se utiliza una **comprensión de diccionario** para calcular el precio final de los productos. La expresión `precios.get(item, 0)` obtiene el valor del diccionario `precios` para la clave `item`, y si la clave no existe, se devuelve 0. Lo mismo ocurre con el diccionario `descuentos`. Después, se resta el descuento al precio del producto correspondiente.\n",
    "\n",
    "La expresión `precios.keys() | descuentos.keys()` obtiene la unión de las claves de ambos diccionarios, asegurando que se consideren todas las claves presentes en `precios` o en `descuentos`.\n"
   ]
  },
  {
   "cell_type": "markdown",
   "id": "3c2dcab0",
   "metadata": {},
   "source": [
    "\n",
    "## Respuesta\n",
    "\n",
    "El resultado del código es:\n",
    "\n",
    "```python\n",
    "{'🍕': 15, '🍔': 15, '🍟': 5, '🌭': -4}\n",
    "```\n",
    "Esto se debe a que el precio final de cada producto es calculado restando el descuento correspondiente del precio original. En el caso del producto `'🌭'`, como no existe en `precios`, se toma el valor predeterminado de 0, y el descuento es 4, lo que da un resultado de -4.\n",
    "\n",
    "Por lo tanto, la respuesta correcta es:\n",
    "\n",
    "👍 {'🍕': 15, '🍔': 15, '🍟': 5, '🌭': -4}\n"
   ]
  },
  {
   "cell_type": "markdown",
   "id": "0032a44e",
   "metadata": {},
   "source": [
    "\n",
    "## Conclusión\n",
    "\n",
    "El uso de la función `get()` en los diccionarios permite evitar errores cuando una clave no existe, devolviendo un valor predeterminado (en este caso, 0). Además, la unión de las claves de dos diccionarios se puede realizar utilizando el operador `|`, lo que facilita trabajar con claves que pueden estar presentes en uno u otro diccionario. El resultado negativo de `'🌭'` ocurre porque no existe en `precios` y se resta el valor 4 de su descuento, resultando en -4.\n"
   ]
  }
 ],
 "metadata": {
  "kernelspec": {
   "display_name": "Python 3",
   "language": "python",
   "name": "python3"
  },
  "language_info": {
   "name": "python",
   "version": "3.11.2"
  },
  "nbformat": 4,
  "nbformat_minor": 5
 },
 "nbformat": 4,
 "nbformat_minor": 2
}
