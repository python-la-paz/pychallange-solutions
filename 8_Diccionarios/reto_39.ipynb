{
 "cells": [
  {
   "cell_type": "markdown",
   "id": "b518f61d",
   "metadata": {},
   "source": [
    "\n",
    "# Reto Semanal XXXIX \n",
    "¿Qué imprimirá el siguiente código?\n",
    "\n",
    "```python\n",
    "productos = {  \n",
    "    '🍎': 10,  \n",
    "    '🍌': 5,  \n",
    "    '🍫': 8,  \n",
    "    '🥛': 3  \n",
    "}   \n",
    "\n",
    "eliminado = productos.pop('🍫', 0)  \n",
    "productos.pop('🍌')  \n",
    "productos['🍎'] -= eliminado  \n",
    "\n",
    "print(productos)  \n",
    "```\n"
   ]
  },
  {
   "cell_type": "markdown",
   "id": "2ea26085",
   "metadata": {},
   "source": [
    "\n",
    "## Análisis del código original\n",
    "\n",
    "El código define un diccionario `productos` con cuatro elementos. Luego, realiza las siguientes operaciones:\n",
    "\n",
    "- `productos.pop('🍫', 0)`: Elimina la clave `'🍫'` y guarda su valor (8) en la variable `eliminado`.\n",
    "- `productos.pop('🍌')`: Elimina la clave `'🍌'` del diccionario.\n",
    "- `productos['🍎'] -= eliminado`: Resta el valor almacenado en `eliminado` (8) al valor de `'🍎'` (10), resultando en `2`.\n",
    "\n",
    "Finalmente, imprime el diccionario modificado.\n"
   ]
  },
  {
   "cell_type": "markdown",
   "id": "3c2dcab0",
   "metadata": {},
   "source": [
    "\n",
    "## Respuesta\n",
    "\n",
    "El resultado del código es:\n",
    "\n",
    "```python\n",
    "{'🍎': 2, '🥛': 3}\n",
    "```\n",
    "La clave `'🍫'` se elimina y su valor se usa para modificar `'🍎'`. También se elimina `'🍌'`, dejando solo `'🍎'` y `'🥛'` con los valores actualizados.\n",
    "\n",
    "Por lo tanto, la respuesta correcta es:\n",
    "\n",
    "❤️ {'🍎': 2, '🥛': 3}\n"
   ]
  },
  {
   "cell_type": "markdown",
   "id": "0032a44e",
   "metadata": {},
   "source": [
    "\n",
    "## Conclusión\n",
    "\n",
    "El uso de `pop()` permite eliminar claves del diccionario y obtener su valor antes de eliminarlas. La actualización de `'🍎'` con `-= eliminado` reduce su valor correctamente. Como resultado, las únicas claves que quedan en `productos` son `'🍎'` con el valor 2 y `'🥛'` con el valor 3.\n"
   ]
  }
 ],
 "metadata": {
  "kernelspec": {
   "display_name": "Python 3",
   "language": "python",
   "name": "python3"
  },
  "language_info": {
   "name": "python",
   "version": "3.11.2"
  },
  "nbformat": 4,
  "nbformat_minor": 5
 },
 "nbformat": 4,
 "nbformat_minor": 2
}
