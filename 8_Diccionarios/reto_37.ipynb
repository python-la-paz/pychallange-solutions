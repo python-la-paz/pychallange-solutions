{
 "cells": [
  {
   "cell_type": "markdown",
   "id": "b518f61d",
   "metadata": {},
   "source": [
    "\n",
    "# Reto Semanal XXXVII \n",
    "¿Qué imprimirá el siguiente código?\n",
    "\n",
    "```python\n",
    "inventario = {'🔧': 3, '🔩': 5, '⚙️': 2}  \n",
    "usados = {'🔧': 1, '⚙️': 1, '🔋': 2}  \n",
    "\n",
    "for item in inventario.keys() | usados.keys():  \n",
    "    inventario[item] = inventario.get(item, 0) - usados.get(item, 0)  \n",
    "\n",
    "print(inventario)\n",
    "```\n"
   ]
  },
  {
   "cell_type": "markdown",
   "id": "2ea26085",
   "metadata": {},
   "source": [
    "\n",
    "## Análisis del código original\n",
    "\n",
    "El código proporcionado es el siguiente:\n",
    "\n",
    "```python\n",
    "inventario = {'🔧': 3, '🔩': 5, '⚙️': 2}  \n",
    "usados = {'🔧': 1, '⚙️': 1, '🔋': 2}  \n",
    "\n",
    "for item in inventario.keys() | usados.keys():  \n",
    "    inventario[item] = inventario.get(item, 0) - usados.get(item, 0)  \n",
    "print(inventario)\n",
    "```\n",
    "\n",
    "En este caso, se está utilizando un bucle `for` que recorre la **unión** de las claves de los diccionarios `inventario` y `usados`. Se usa el operador `|` para obtener todas las claves de ambos diccionarios.\n",
    "\n",
    "Dentro del bucle, se actualiza el diccionario `inventario` restando la cantidad en `usados` de la cantidad en `inventario`. Si una clave no existe en uno de los diccionarios, se utiliza 0 como valor por defecto con `get()`. Esto asegura que no se produzca un error si una clave está presente en uno de los diccionarios pero no en el otro.\n"
   ]
  },
  {
   "cell_type": "markdown",
   "id": "3c2dcab0",
   "metadata": {},
   "source": [
    "\n",
    "## Respuesta\n",
    "\n",
    "El resultado del código es:\n",
    "\n",
    "```python\n",
    "{'🔧': 2, '🔩': 5, '⚙️': 1, '🔋': -2}\n",
    "```\n",
    "Esto ocurre porque se realiza la siguiente operación para cada clave en la unión de `inventario` y `usados`:\n",
    "\n",
    "- `'🔧'`: En `inventario` tiene 3, y en `usados` tiene 1. Por lo tanto, el resultado es 3 - 1 = 2.\n",
    "- `'🔩'`: No tiene descuento en `usados`, por lo que sigue siendo 5.\n",
    "- `'⚙️'`: En `inventario` tiene 2, y en `usados` tiene 1. El resultado es 2 - 1 = 1.\n",
    "- `'🔋'`: No está en `inventario`, así que el valor predeterminado es 0. El descuento en `usados` es 2, por lo que el resultado es 0 - 2 = -2.\n",
    "\n",
    "Por lo tanto, la respuesta correcta es:\n",
    "\n",
    "😎 {'🔧': 2, '🔩': 5, '⚙️': 1, '🔋': -2}\n"
   ]
  },
  {
   "cell_type": "markdown",
   "id": "0032a44e",
   "metadata": {},
   "source": [
    "\n",
    "## Conclusión\n",
    "\n",
    "El uso de la unión de claves (`|`) en los diccionarios permite actualizar las claves presentes en cualquiera de los diccionarios. Además, el uso de `get()` con un valor predeterminado de 0 asegura que no se produzca un error cuando una clave está ausente en un diccionario. El resultado negativo de `'🔋'` ocurre porque no está presente en `inventario`, pero está en `usados`, por lo que el valor predeterminado es 0 y se resta el descuento de 2.\n"
   ]
  }
 ],
 "metadata": {
  "kernelspec": {
   "display_name": "Python 3",
   "language": "python",
   "name": "python3"
  },
  "language_info": {
   "name": "python",
   "version": "3.11.2"
  },
  "nbformat": 4,
  "nbformat_minor": 5
 },
 "nbformat": 4,
 "nbformat_minor": 2
}
