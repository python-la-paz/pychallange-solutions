{
 "cells": [
  {
   "cell_type": "markdown",
   "id": "b518f61d",
   "metadata": {},
   "source": [
    "\n",
    "# Reto Semanal XXXIV \n",
    "¿Cuál es el resultado del siguiente código?\n",
    "\n",
    "```python\n",
    "precios = {'🍔': 300, '🍟': 800, '☕': 100}  \n",
    "descuentos = {'🍔': 50, '☕': 20}  \n",
    "\n",
    "for producto, descuento in descuentos.items():  \n",
    "    precios[producto] -= descuento  \n",
    "print(precios)\n",
    "```\n"
   ]
  },
  {
   "cell_type": "markdown",
   "id": "2ea26085",
   "metadata": {},
   "source": [
    "\n",
    "## Análisis del código original\n",
    "\n",
    "El código proporcionado es el siguiente:\n",
    "\n",
    "```python\n",
    "precios = {'🍔': 300, '🍟': 800, '☕': 100}  \n",
    "descuentos = {'🍔': 50, '☕': 20}  \n",
    "\n",
    "for producto, descuento in descuentos.items():  \n",
    "    precios[producto] -= descuento  \n",
    "print(precios)\n",
    "```\n",
    "\n",
    "En este caso, el código utiliza un ciclo `for` para iterar sobre los elementos del diccionario `descuentos`. En cada iteración, el valor del descuento se resta del precio correspondiente en el diccionario `precios`. El producto `'🍟'` no se ve afectado, ya que no tiene descuento en el diccionario `descuentos`.\n",
    "\n",
    "La clave `'🍔'` tendrá un descuento de 50, por lo que su precio pasará de 300 a 250. La clave `'☕'` tendrá un descuento de 20, por lo que su precio pasará de 100 a 80.\n"
   ]
  },
  {
   "cell_type": "markdown",
   "id": "3c2dcab0",
   "metadata": {},
   "source": [
    "\n",
    "## Respuesta\n",
    "\n",
    "El resultado del código es:\n",
    "\n",
    "```python\n",
    "{'🍔': 250, '🍟': 800, '☕': 80}\n",
    "```\n",
    "Esto se debe a que el precio de `'🍔'` se reduce en 50 y el precio de `'☕'` se reduce en 20. El precio de `'🍟'` no se ve afectado porque no tiene un descuento asociado.\n",
    "\n",
    "Por lo tanto, la respuesta correcta es:\n",
    "\n",
    "👍 {'🍔': 250, '🍟': 800, '☕': 80}\n"
   ]
  },
  {
   "cell_type": "markdown",
   "id": "0032a44e",
   "metadata": {},
   "source": [
    "\n",
    "## Conclusión\n",
    "\n",
    "En Python, puedes modificar los valores de un diccionario directamente dentro de un ciclo. En este caso, el código aplica descuentos a los productos que tienen una clave en el diccionario `descuentos`, y los valores se actualizan correctamente según los descuentos aplicados.\n"
   ]
  }
 ],
 "metadata": {
  "kernelspec": {
   "display_name": "Python 3",
   "language": "python",
   "name": "python3"
  },
  "language_info": {
   "name": "python",
   "version": "3.11.2"
  },
  "nbformat": 4,
  "nbformat_minor": 5
 },
 "nbformat": 4,
 "nbformat_minor": 2
}
