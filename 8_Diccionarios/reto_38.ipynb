{
 "cells": [
  {
   "cell_type": "markdown",
   "id": "b518f61d",
   "metadata": {},
   "source": [
    "\n",
    "# Reto Semanal XXXVIII \n",
    "¿Qué imprimirá el siguiente código?\n",
    "\n",
    "```python\n",
    "receta = {  \n",
    "    '🍕': ['🍅', '🍞'],  \n",
    "    '🍔': ['🍞', '🥩']\n",
    "}  \n",
    "nueva_receta = {  \n",
    "    '🍕': ['🌶️', '🧀'],  \n",
    "    '🍔': ['🥬', '🧀', '🥩']\n",
    "}  \n",
    "for item in nueva_receta:  \n",
    "    receta[item].extend(nueva_receta[item]) \n",
    "\n",
    "print(receta)  \n",
    "```\n"
   ]
  },
  {
   "cell_type": "markdown",
   "id": "2ea26085",
   "metadata": {},
   "source": [
    "\n",
    "## Análisis del código original\n",
    "\n",
    "El código proporcionado es el siguiente:\n",
    "\n",
    "```python\n",
    "receta = {  \n",
    "    '🍕': ['🍅', '🍞'],  \n",
    "    '🍔': ['🍞', '🥩']\n",
    "}  \n",
    "nueva_receta = {  \n",
    "    '🍕': ['🌶️', '🧀'],  \n",
    "    '🍔': ['🥬', '🧀', '🥩']\n",
    "}  \n",
    "for item in nueva_receta:  \n",
    "    receta[item].extend(nueva_receta[item]) \n",
    "\n",
    "print(receta) \n",
    "```\n",
    "\n",
    "El código toma dos diccionarios, `receta` y `nueva_receta`, donde cada clave representa un platillo con sus respectivos ingredientes en una lista. Luego, itera sobre `nueva_receta` y extiende cada lista de `receta` con los nuevos ingredientes correspondientes.\n",
    "\n",
    "Dado que `.extend()` modifica la lista en su lugar, los ingredientes de `nueva_receta` se agregan directamente a las listas existentes en `receta`, sin sobrescribirlas.\n"
   ]
  },
  {
   "cell_type": "markdown",
   "id": "3c2dcab0",
   "metadata": {},
   "source": [
    "\n",
    "## Respuesta\n",
    "\n",
    "El resultado del código es:\n",
    "\n",
    "```python\n",
    "{'🍕': ['🍅', '🍞', '🌶️', '🧀'], '🍔': ['🍞', '🥩', '🥬', '🧀', '🥩']}\n",
    "```\n",
    "Las listas en `receta` se actualizan con los nuevos ingredientes. Para `'🍕'`, se agregan `'🌶️'` y `'🧀'`. Para `'🍔'`, se agregan `'🥬'`, `'🧀'` y otro `'🥩'`, lo que duplica este ingrediente.\n",
    "\n",
    "Por lo tanto, la respuesta correcta es:\n",
    "\n",
    "❤️ {'🍕': ['🍅', '🍞', '🌶️', '🧀'], '🍔': ['🍞', '🥩', '🥬', '🧀', '🥩']}"
   ]
  },
  {
   "cell_type": "markdown",
   "id": "0032a44e",
   "metadata": {},
   "source": [
    "\n",
    "## Conclusión\n",
    "\n",
    "El uso de `.extend()` permite agregar elementos a las listas existentes dentro del diccionario sin reemplazarlas. Como resultado, los ingredientes nuevos se suman a los anteriores y pueden duplicarse si ya estaban en la lista. En este caso, `'🥩'` aparece dos veces en `'🍔'` porque también estaba en `nueva_receta`.\n"
   ]
  }
 ],
 "metadata": {
  "kernelspec": {
   "display_name": "Python 3",
   "language": "python",
   "name": "python3"
  },
  "language_info": {
   "name": "python",
   "version": "3.11.2"
  },
  "nbformat": 4,
  "nbformat_minor": 5
 },
 "nbformat": 4,
 "nbformat_minor": 2
}
