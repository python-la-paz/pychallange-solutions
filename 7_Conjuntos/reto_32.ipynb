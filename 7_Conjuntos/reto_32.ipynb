{
 "cells": [
  {
   "cell_type": "markdown",
   "id": "b518f61d",
   "metadata": {},
   "source": [
    "\n",
    "# Reto Semanal XXXII \n",
    "¿Cuál es el resultado del siguiente código?\n",
    "\n",
    "```python\n",
    "jardin = {'🌳', '🌱', '🌼'}\n",
    "bosque = {'🌱', '🌼', '🌲', '🌵', '🌿'}\n",
    "desierto = {'🌵'}\n",
    "\n",
    "flora = (jardin.union(bosque)).difference(desierto)\n",
    "resultado = flora.symmetric_difference({'🌲', '🌼'})\n",
    "\n",
    "print(resultado)\n",
    "```\n"
   ]
  },
  {
   "cell_type": "markdown",
   "id": "2ea26085",
   "metadata": {},
   "source": [
    "\n",
    "## Análisis del código original\n",
    "\n",
    "El código proporcionado es el siguiente:\n",
    "\n",
    "```python\n",
    "jardin = {'🌳', '🌱', '🌼'}\n",
    "bosque = {'🌱', '🌼', '🌲', '🌵', '🌿'}\n",
    "desierto = {'🌵'}\n",
    "\n",
    "flora = (jardin.union(bosque)).difference(desierto)\n",
    "resultado = flora.symmetric_difference({'🌲', '🌼'})\n",
    "\n",
    "print(resultado)\n",
    "```\n",
    "\n",
    "- `jardin.union(bosque)` crea un conjunto con todas las plantas en el jardín y el bosque.\n",
    "- `.difference(desierto)` elimina `🌵`, dejando `{'🌳', '🌱', '🌼', '🌲', '🌿'}`.\n",
    "- `.symmetric_difference({'🌲', '🌼'})` elimina `🌲` y `🌼`, agregando los que no estaban en `flora`.\n",
    "- El conjunto resultante es `{'🌳', '🌱', '🌿'}`.\n"
   ]
  },
  {
   "cell_type": "markdown",
   "id": "3c2dcab0",
   "metadata": {},
   "source": [
    "\n",
    "## Respuesta\n",
    "\n",
    "El resultado del código es:\n",
    "\n",
    "👍 {'🌱', '🌳', '🌿'} \n"
   ]
  },
  {
   "cell_type": "markdown",
   "id": "0032a44e",
   "metadata": {},
   "source": [
    "\n",
    "## Conclusión\n",
    "\n",
    "El operador `union` combina conjuntos, `difference` elimina elementos específicos y `symmetric_difference` devuelve los elementos que están en solo uno de los dos conjuntos.\n",
    "\n",
    "El conjunto final resultante es `{'🌱', '🌳', '🌿'}`.\n"
   ]
  }
 ],
 "metadata": {
  "kernelspec": {
   "display_name": "Python 3",
   "language": "python",
   "name": "python3"
  },
  "language_info": {
   "name": "python",
   "version": "3.11.2"
  },
  "nbformat": 4,
  "nbformat_minor": 5
 },
 "nbformat": 4,
 "nbformat_minor": 2
}
