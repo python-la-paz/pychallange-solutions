{
 "cells": [
  {
   "cell_type": "markdown",
   "id": "b518f61d",
   "metadata": {},
   "source": [
    "\n",
    "# Reto Semanal XXX \n",
    "¿Cuál es el resultado del siguiente código?\n",
    "\n",
    "```python\n",
    "desayuno = {'🥞', '🍳', '🥓', '☕'}\n",
    "almuerzo = {'🍔', '🍟', '🥗', '🥓'}\n",
    "cena = {'🥗', '🍝', '🥞', '🍷'}\n",
    "resultado = (desayuno.intersection_update(almuerzo) or desayuno) - cena\n",
    "\n",
    "print(resultado)\n",
    "```\n"
   ]
  },
  {
   "cell_type": "markdown",
   "id": "2ea26085",
   "metadata": {},
   "source": [
    "\n",
    "## Análisis del código original\n",
    "\n",
    "El código proporcionado es el siguiente:\n",
    "\n",
    "```python\n",
    "desayuno = {'🥞', '🍳', '🥓', '☕'}\n",
    "almuerzo = {'🍔', '🍟', '🥗', '🥓'}\n",
    "cena = {'🥗', '🍝', '🥞', '🍷'}\n",
    "resultado = (desayuno.intersection_update(almuerzo) or desayuno) - cena\n",
    "\n",
    "print(resultado)\n",
    "```\n",
    "\n",
    "- `desayuno.intersection_update(almuerzo)` modifica `desayuno`, dejando solo los elementos que están en ambos conjuntos. Ahora, `desayuno = {'🥓'}`.\n",
    "- `or desayuno` devuelve `desayuno` ya que `intersection_update` devuelve `None`, asegurando que la operación continúe con `{'🥓'}`.\n",
    "- Finalmente, `desayuno - cena` elimina los elementos de `cena`, pero como `🥓` no está en `cena`, el resultado final es `{'🥓'}`.\n"
   ]
  },
  {
   "cell_type": "markdown",
   "id": "3c2dcab0",
   "metadata": {},
   "source": [
    "\n",
    "## Respuesta\n",
    "\n",
    "El resultado del código es:\n",
    "\n",
    "👍 {'🥓'}\n"
   ]
  },
  {
   "cell_type": "markdown",
   "id": "0032a44e",
   "metadata": {},
   "source": [
    "\n",
    "## Conclusión\n",
    "\n",
    "El método `intersection_update` modifica el conjunto en el que se aplica, dejando solo los elementos en común. Como devuelve `None`, el uso de `or desayuno` asegura que la operación continúe correctamente.\n",
    "\n",
    "En este caso, `{'🥓'}` es el único elemento que sobrevive después de todas las operaciones.\n"
   ]
  }
 ],
 "metadata": {
  "kernelspec": {
   "display_name": "Python 3",
   "language": "python",
   "name": "python3"
  },
  "language_info": {
   "name": "python",
   "version": "3.11.2"
  },
  "nbformat": 4,
  "nbformat_minor": 5
 },
 "nbformat": 4,
 "nbformat_minor": 2
}
