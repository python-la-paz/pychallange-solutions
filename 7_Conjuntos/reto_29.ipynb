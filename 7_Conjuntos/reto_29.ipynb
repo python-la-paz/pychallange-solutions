{
 "cells": [
  {
   "cell_type": "markdown",
   "id": "b518f61d",
   "metadata": {},
   "source": [
    "\n",
    "# Reto Semanal XXIX \n",
    "¿Cuál es el resultado del siguiente código?\n",
    "\n",
    "```python\n",
    "sotano = {'🚗', '🚔', '🛺', '🚍'}\n",
    "exterior = frozenset({'🛺', '🚔', '🚗', '🚓'})\n",
    "parqueo = (sotano ^ exterior) & sotano\n",
    "\n",
    "print(parqueo)\n",
    "```\n"
   ]
  },
  {
   "cell_type": "markdown",
   "id": "2ea26085",
   "metadata": {},
   "source": [
    "\n",
    "## Análisis del código original\n",
    "\n",
    "El código proporcionado es el siguiente:\n",
    "\n",
    "```python\n",
    "sotano = {'🚗', '🚔', '🛺', '🚍'}\n",
    "exterior = frozenset({'🛺', '🚔', '🚗', '🚓'})\n",
    "parqueo = (sotano ^ exterior) & sotano\n",
    "\n",
    "print(parqueo)\n",
    "```\n",
    "\n",
    "- `sotano ^ exterior` representa la **diferencia simétrica**, es decir, los elementos que están en uno de los conjuntos pero no en ambos. Esto da como resultado `{'🚓', '🚍'}`.\n",
    "- Luego, al hacer `& sotano`, se filtran solo los elementos que también están en `sotano`, lo que da como resultado `{'🚍'}`.\n"
   ]
  },
  {
   "cell_type": "markdown",
   "id": "3c2dcab0",
   "metadata": {},
   "source": [
    "\n",
    "## Respuesta\n",
    "\n",
    "El resultado del código es:\n",
    "\n",
    "❤️ {'🚍'}\n"
   ]
  },
  {
   "cell_type": "markdown",
   "id": "0032a44e",
   "metadata": {},
   "source": [
    "\n",
    "## Conclusión\n",
    "\n",
    "El operador `^` obtiene la **diferencia simétrica**, es decir, los elementos que están en un solo conjunto pero no en ambos. Luego, el operador `&` con `sotano` deja solo los elementos que pertenecen a `sotano`.\n",
    "\n",
    "En este caso, `{'🚍'}` es el único elemento que cumple esta condición.\n"
   ]
  }
 ],
 "metadata": {
  "kernelspec": {
   "display_name": "Python 3",
   "language": "python",
   "name": "python3"
  },
  "language_info": {
   "name": "python",
   "version": "3.11.2"
  },
  "nbformat": 4,
  "nbformat_minor": 5
 },
 "nbformat": 4,
 "nbformat_minor": 2
}
