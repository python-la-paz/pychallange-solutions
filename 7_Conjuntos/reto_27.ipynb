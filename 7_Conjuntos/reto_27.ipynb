{
 "cells": [
  {
   "cell_type": "markdown",
   "id": "b518f61d",
   "metadata": {},
   "source": [
    "\n",
    "# Reto Semanal XXVII \n",
    "¿Cuál es el resultado del siguiente código?\n",
    "\n",
    "```python\n",
    "primarios = {'🔵', '🟥', '🟡'}\n",
    "secundarios = {'🟢', '🟠', '🟣', '🔵'}\n",
    "colores = primarios & secundarios  \n",
    "print(colores)\n",
    "```\n"
   ]
  },
  {
   "cell_type": "markdown",
   "id": "2ea26085",
   "metadata": {},
   "source": [
    "\n",
    "## Análisis del código original\n",
    "\n",
    "El código proporcionado es el siguiente:\n",
    "\n",
    "```python\n",
    "primarios = {'🔵', '🟥', '🟡'}\n",
    "secundarios = {'🟢', '🟠', '🟣', '🔵'}\n",
    "colores = primarios & secundarios  \n",
    "print(colores)\n",
    "```\n",
    "\n",
    "En este caso, `primarios` y `secundarios` son conjuntos (`set`) en Python. El operador `&` en los conjuntos se utiliza para obtener la **intersección**, es decir, los elementos que están en ambos conjuntos.\n",
    "\n",
    "El único elemento en común entre `primarios` y `secundarios` es `🔵`.\n"
   ]
  },
  {
   "cell_type": "markdown",
   "id": "3c2dcab0",
   "metadata": {},
   "source": [
    "\n",
    "## Respuesta\n",
    "\n",
    "El resultado del código es:\n",
    "\n",
    "👍 {'🔵'}\n"
   ]
  },
  {
   "cell_type": "markdown",
   "id": "0032a44e",
   "metadata": {},
   "source": [
    "\n",
    "## Conclusión\n",
    "\n",
    "El operador `&` en los conjuntos obtiene la **intersección**, es decir, los elementos que están en ambos conjuntos. En este caso, el único color presente en ambos es `🔵`.\n"
   ]
  }
 ],
 "metadata": {
  "kernelspec": {
   "display_name": "Python 3",
   "language": "python",
   "name": "python3"
  },
  "language_info": {
   "name": "python",
   "version": "3.11.2"
  },
  "nbformat": 4,
  "nbformat_minor": 5
 },
 "nbformat": 4,
 "nbformat_minor": 2
}
