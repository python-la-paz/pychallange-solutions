{
 "cells": [
  {
   "cell_type": "markdown",
   "id": "b518f61d",
   "metadata": {},
   "source": [
    "\n",
    "# Reto Semanal XXXI \n",
    "¿Cuál es el resultado del siguiente código?\n",
    "\n",
    "```python\n",
    "mamiferos = {'🐱', '🐶', '🐴', '🐘', '🐻'}\n",
    "aves = {'🐦', '🦅', '🦉', '🦜'}\n",
    "reptiles = {'🐍', '🐢', '🐉', '🦎'}\n",
    "\n",
    "vertebrados = (mamiferos.union(aves)) - (reptiles.union(mamiferos))\n",
    "resultado = (vertebrados).difference('🦅', '🐢')\n",
    "\n",
    "print(resultado)\n",
    "```\n"
   ]
  },
  {
   "cell_type": "markdown",
   "id": "2ea26085",
   "metadata": {},
   "source": [
    "\n",
    "## Análisis del código original\n",
    "\n",
    "El código proporcionado es el siguiente:\n",
    "\n",
    "```python\n",
    "mamiferos = {'🐱', '🐶', '🐴', '🐘', '🐻'}\n",
    "aves = {'🐦', '🦅', '🦉', '🦜'}\n",
    "reptiles = {'🐍', '🐢', '🐉', '🦎'}\n",
    "\n",
    "vertebrados = (mamiferos.union(aves)) - (reptiles.union(mamiferos))\n",
    "resultado = (vertebrados).difference('🦅', '🐢')\n",
    "\n",
    "print(resultado)\n",
    "```\n",
    "\n",
    "- `mamiferos.union(aves)` crea un conjunto con todos los mamíferos y aves.\n",
    "- `reptiles.union(mamiferos)` crea un conjunto con todos los reptiles y mamíferos.\n",
    "- `vertebrados = (mamiferos.union(aves)) - (reptiles.union(mamiferos))` elimina los mamíferos y reptiles de la unión inicial, dejando solo `{'🐦', '🦅', '🦉', '🦜'}`.\n",
    "- `vertebrados.difference('🦅', '🐢')` elimina `🦅` y `🐢` del conjunto, dejando `{'🐦', '🦉', '🦜'}`.\n"
   ]
  },
  {
   "cell_type": "markdown",
   "id": "3c2dcab0",
   "metadata": {},
   "source": [
    "\n",
    "## Respuesta\n",
    "\n",
    "El resultado del código es:\n",
    "\n",
    "😂 {'🦉', '🐦', '🦜'}\n"
   ]
  },
  {
   "cell_type": "markdown",
   "id": "0032a44e",
   "metadata": {},
   "source": [
    "\n",
    "## Conclusión\n",
    "\n",
    "El operador `union` combina los elementos de dos conjuntos, mientras que `difference` elimina elementos específicos.\n",
    "\n",
    "En este caso, los vertebrados que quedan después de las operaciones son `{'🦉', '🐦', '🦜'}`.\n"
   ]
  }
 ],
 "metadata": {
  "kernelspec": {
   "display_name": "Python 3",
   "language": "python",
   "name": "python3"
  },
  "language_info": {
   "name": "python",
   "version": "3.11.2"
  },
  "nbformat": 4,
  "nbformat_minor": 5
 },
 "nbformat": 4,
 "nbformat_minor": 2
}
