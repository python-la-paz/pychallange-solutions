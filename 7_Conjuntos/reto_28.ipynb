{
 "cells": [
  {
   "cell_type": "markdown",
   "id": "b518f61d",
   "metadata": {},
   "source": [
    "\n",
    "# Reto Semanal XXVIII \n",
    "¿Cuál es el resultado del siguiente código?\n",
    "\n",
    "```python\n",
    "canasta_1 = {'🍎', '🍓', '🍉', '🍍'}\n",
    "canasta_2 = {'🍇', '🍓', '🍍', '🍊'}\n",
    "resultado = (canasta_1 | canasta_2) - (canasta_1 & canasta_2)\n",
    "\n",
    "print(resultado)\n",
    "```\n"
   ]
  },
  {
   "cell_type": "markdown",
   "id": "2ea26085",
   "metadata": {},
   "source": [
    "\n",
    "## Análisis del código original\n",
    "\n",
    "El código proporcionado es el siguiente:\n",
    "\n",
    "```python\n",
    "canasta_1 = {'🍎', '🍓', '🍉', '🍍'}\n",
    "canasta_2 = {'🍇', '🍓', '🍍', '🍊'}\n",
    "resultado = (canasta_1 | canasta_2) - (canasta_1 & canasta_2)\n",
    "\n",
    "print(resultado)\n",
    "```\n",
    "\n",
    "En este caso, `canasta_1` y `canasta_2` son conjuntos (`set`) en Python.\n",
    "\n",
    "- `canasta_1 | canasta_2` representa la **unión** de ambos conjuntos, es decir, todos los elementos que están en al menos uno de ellos: `{'🍎', '🍓', '🍉', '🍍', '🍇', '🍊'}`.\n",
    "- `canasta_1 & canasta_2` representa la **intersección**, es decir, los elementos que están en ambos conjuntos: `{'🍓', '🍍'}`.\n",
    "- La operación `(canasta_1 | canasta_2) - (canasta_1 & canasta_2)` elimina los elementos en común, dejando únicamente `{'🍎', '🍊', '🍇', '🍉'}`.\n"
   ]
  },
  {
   "cell_type": "markdown",
   "id": "3c2dcab0",
   "metadata": {},
   "source": [
    "\n",
    "## Respuesta\n",
    "\n",
    "El resultado del código es:\n",
    "\n",
    "👍 {'🍎', '🍊', '🍇', '🍉'}\n"
   ]
  },
  {
   "cell_type": "markdown",
   "id": "0032a44e",
   "metadata": {},
   "source": [
    "\n",
    "## Conclusión\n",
    "\n",
    "El operador `|` obtiene la **unión** de dos conjuntos, `&` obtiene la **intersección**, y la resta `-` elimina los elementos en común.\n",
    "\n",
    "En este caso, se obtienen los elementos que están en alguno de los conjuntos pero no en ambos simultáneamente.\n"
   ]
  }
 ],
 "metadata": {
  "kernelspec": {
   "display_name": "Python 3",
   "language": "python",
   "name": "python3"
  },
  "language_info": {
   "name": "python",
   "version": "3.11.2"
  },
  "nbformat": 4,
  "nbformat_minor": 5
 },
 "nbformat": 4,
 "nbformat_minor": 2
}
